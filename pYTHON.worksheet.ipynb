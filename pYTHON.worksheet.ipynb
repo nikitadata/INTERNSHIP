{
  "metadata": {
    "kernelspec": {
      "name": "python",
      "display_name": "Python (Pyodide)",
      "language": "python"
    },
    "language_info": {
      "codemirror_mode": {
        "name": "python",
        "version": 3
      },
      "file_extension": ".py",
      "mimetype": "text/x-python",
      "name": "python",
      "nbconvert_exporter": "python",
      "pygments_lexer": "ipython3",
      "version": "3.8"
    }
  },
  "nbformat_minor": 4,
  "nbformat": 4,
  "cells": [
    {
      "cell_type": "code",
      "source": "#11\n\nnum = 7\n\nfactorial = 1\n\nif num < 0:\n   print(\"Sorry, factorial does not exist for negative numbers\")\nelif num == 0:\n   print(\"The factorial of 0 is 1\")\nelse:\n   for i in range(1,num + 1):\n       factorial = factorial*i\n   print(\"The factorial of\",num,\"is\",factorial)",
      "metadata": {
        "trusted": true
      },
      "outputs": [
        {
          "name": "stdout",
          "text": "The factorial of 7 is 5040\n",
          "output_type": "stream"
        }
      ],
      "execution_count": 1
    },
    {
      "cell_type": "code",
      "source": "#12\nfrom math import sqrt\n\n# Number to be checked for prime\nn = 9\n\nflag = 0\n\nif(n > 1):\n\tfor k in range(2, int(sqrt(n)) + 1):\n\t\tif (n % k == 0):\n\t\t\tflag = 1\n\t\tbreak\n\tif (flag == 0):\n\t\tprint(n,\" is a Prime Number!\")\n\telse:\n\t\tprint(n,\" is Not a Prime Number!\")\nelse:\n\tprint(n,\" is Not a Prime Number!\")",
      "metadata": {
        "trusted": true
      },
      "outputs": [
        {
          "name": "stdout",
          "text": "9  is a Prime Number!\n",
          "output_type": "stream"
        }
      ],
      "execution_count": 6
    },
    {
      "cell_type": "code",
      "source": "#13\n#Palindrome check function\ndef isPalindrome(str):\n\tfor i in range(0, int(len(str)/2)):\n\t\tif str[i] != str[len(str)-i-1]:\n\t\t\treturn False\n\treturn True\n\ns = \"malayalam\"\nans = isPalindrome(s)\n\nif (ans):\n\tprint(\"Yes\")\nelse:\n\tprint(\"No\")\n",
      "metadata": {
        "trusted": true
      },
      "outputs": [
        {
          "name": "stdout",
          "text": "Yes\n",
          "output_type": "stream"
        }
      ],
      "execution_count": 8
    },
    {
      "cell_type": "code",
      "source": "#14\n#Right triangle question\ndef pythagorastriangle(opposite_side,adjacent_side,hypotenuse):\n        if opposite_side == str(\"x\"):\n            return (\"Opposite = \" + str(((hypotenuse**2) - (adjacent_side**2))**0.5))\n        elif adjacent_side == str(\"x\"):\n            return (\"Adjacent = \" + str(((hypotenuse**2) - (opposite_side**2))**0.5))\n        elif hypotenuse == str(\"x\"):\n            return (\"Hypotenuse = \" + str(((opposite_side**2) + (adjacent_side**2))**0.5))\n        else:\n            return \"You know the answer!\"\n    \nprint(pythagorastriangle(3,4,'x'))\nprint(pythagorastriangle(3,'x',5))\nprint(pythagorastriangle('x',4,5))\nprint(pythagorastriangle(3,4,5))\n",
      "metadata": {
        "trusted": true
      },
      "outputs": [
        {
          "name": "stdout",
          "text": "Hypotenuse = 5.0\nAdjacent = 4.0\nOpposite = 3.0\nYou know the answer!\n",
          "output_type": "stream"
        }
      ],
      "execution_count": 10
    },
    {
      "cell_type": "code",
      "source": "#15\ntest_str = \"GeeksforGeeks\"\n\nall_freq = {}\n\nfor i in test_str:\n\tif i in all_freq:\n\t\tall_freq[i] += 1\n\telse:\n\t\tall_freq[i] = 1\n\nprint(\"Count of all characters in GeeksforGeeks is :\\n \"\n\t+ str(all_freq))\n",
      "metadata": {
        "trusted": true
      },
      "outputs": [],
      "execution_count": null
    }
  ]
}