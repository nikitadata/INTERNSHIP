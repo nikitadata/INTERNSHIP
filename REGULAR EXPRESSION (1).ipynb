{
 "cells": [
  {
   "cell_type": "markdown",
   "id": "b1936e8d",
   "metadata": {},
   "source": [
    "QUESTION 1"
   ]
  },
  {
   "cell_type": "code",
   "execution_count": 9,
   "id": "ac009f8d",
   "metadata": {},
   "outputs": [
    {
     "name": "stdout",
     "output_type": "stream",
     "text": [
      "Python:Exercises::PHP:exercises:\n"
     ]
    }
   ],
   "source": [
    "text = 'Python Exercises, PHP exercises.'\n",
    "new_text = text.replace(' ', ':').replace(',', ':').replace('.', ':')\n",
    "print(new_text)"
   ]
  },
  {
   "cell_type": "markdown",
   "id": "05c06f74",
   "metadata": {},
   "source": [
    "QUESTION 2"
   ]
  },
  {
   "cell_type": "code",
   "execution_count": 1,
   "id": "5ef88f28",
   "metadata": {},
   "outputs": [],
   "source": [
    "import pandas as pd\n",
    "import re\n",
    "data = {'SUMMARY': ['hello, world!', 'XXXXX test', '123four, five:; six...']}\n",
    "df = pd.DataFrame(data)\n",
    "df['SUMMARY'] = df['SUMMARY'].apply(lambda x: re.sub(r'[^\\w\\s]', '', x))\n"
   ]
  },
  {
   "cell_type": "markdown",
   "id": "bb2364d1",
   "metadata": {},
   "source": [
    "QUESTION 3"
   ]
  },
  {
   "cell_type": "code",
   "execution_count": 11,
   "id": "154ca75d",
   "metadata": {},
   "outputs": [
    {
     "name": "stdout",
     "output_type": "stream",
     "text": [
      "['This', 'with', 'words']\n"
     ]
    }
   ],
   "source": [
    "import re\n",
    "\n",
    "def find_words(string):\n",
    "  pattern = re.compile(r'\\b\\w{3,5}\\b')\n",
    "  matches = pattern.findall(string)\n",
    "  return matches\n",
    "string = \"This is a sample string with words of different lengths.\"\n",
    "result = find_words(string)\n",
    "print(result)\n"
   ]
  },
  {
   "cell_type": "markdown",
   "id": "0d37db3a",
   "metadata": {},
   "source": [
    "QUESTION 4"
   ]
  },
  {
   "cell_type": "code",
   "execution_count": 13,
   "id": "0d7887b9",
   "metadata": {},
   "outputs": [
    {
     "name": "stdout",
     "output_type": "stream",
     "text": [
      "['This', 'with', 'words']\n"
     ]
    }
   ],
   "source": [
    "import re\n",
    "\n",
    "def find_words(string):\n",
    "  pattern = re.compile(r'\\b\\w{3,5}\\b')\n",
    "  matches = pattern.findall(string)\n",
    "  return matches\n",
    "string = \"This is a sample string with words of different lengths.\"\n",
    "result = find_words(string)\n",
    "print(result)\n"
   ]
  },
  {
   "cell_type": "markdown",
   "id": "07634797",
   "metadata": {},
   "source": [
    "QUESTION 5"
   ]
  },
  {
   "cell_type": "code",
   "execution_count": 26,
   "id": "1c689d84",
   "metadata": {},
   "outputs": [
    {
     "name": "stdout",
     "output_type": "stream",
     "text": [
      "['example (.com)', 'hr@fliprobo (.com)', 'github (.com)', 'Hello (Data Science World)', 'Data (Scientist)']\n"
     ]
    }
   ],
   "source": [
    "import re\n",
    "def remove_parentheses(strings):\n",
    "  pattern = re.compile(r\"\\(\\)\")\n",
    "  modified_strings = []\n",
    "  for string in strings:\n",
    "    modified_string = re.sub(pattern, \"\", string)\n",
    "    modified_strings.append(modified_string)\n",
    "  return modified_strings\n",
    "\n",
    "sample_text = [\"example (.com)\", \"hr@fliprobo (.com)\", \"github (.com)\", \"Hello (Data Science World)\", \"Data (Scientist)\"]\n",
    "result = remove_parentheses(sample_text)\n",
    "print(result)"
   ]
  },
  {
   "cell_type": "code",
   "execution_count": null,
   "id": "19240c1f",
   "metadata": {},
   "outputs": [],
   "source": [
    "QUESTION 6"
   ]
  },
  {
   "cell_type": "code",
   "execution_count": 1,
   "id": "33656166",
   "metadata": {},
   "outputs": [
    {
     "name": "stdout",
     "output_type": "stream",
     "text": [
      "Original List:\n",
      "example (.com)\n",
      "hr@fliprobo (.com)\n",
      "github (.com)\n",
      "Hello (Data Science World)\n",
      "Data (Scientist)\n",
      "\n",
      "List without Parentheses:\n",
      "example \n",
      "hr@fliprobo \n",
      "github \n",
      "Hello \n",
      "Data \n"
     ]
    }
   ],
   "source": [
    "import re\n",
    "def remove_parentheses(strings_list):\n",
    "    pattern = re.compile(r'\\([^)]*\\)')\n",
    "    result_list = [pattern.sub('', string) for string in strings_list]\n",
    "\n",
    "    return result_list\n",
    "\n",
    "strings_with_parentheses = [\"example (.com)\", \"hr@fliprobo (.com)\", \"github (.com)\", \"Hello (Data Science World)\", \"Data (Scientist)\"]\n",
    "\n",
    "\n",
    "strings_without_parentheses = remove_parentheses(strings_with_parentheses)\n",
    "\n",
    "print(\"Original List:\")\n",
    "for string in strings_with_parentheses:\n",
    "    print(string)\n",
    "\n",
    "print(\"\\nList without Parentheses:\")\n",
    "for string in strings_without_parentheses:\n",
    "    print(string)"
   ]
  },
  {
   "cell_type": "markdown",
   "id": "267a9f83",
   "metadata": {},
   "source": [
    "QUESTION 7"
   ]
  },
  {
   "cell_type": "code",
   "execution_count": 29,
   "id": "12ac15e2",
   "metadata": {},
   "outputs": [
    {
     "name": "stdout",
     "output_type": "stream",
     "text": [
      "['Importance', 'Of', 'Regular', 'Expressions', 'In', 'Python']\n"
     ]
    }
   ],
   "source": [
    "import re\n",
    "text = \"ImportanceOfRegularExpressionsInPython\"\n",
    "res = re.findall('[A-Z][^A-Z]*', text)\n",
    "print(res)\n"
   ]
  },
  {
   "cell_type": "markdown",
   "id": "a5cd0661",
   "metadata": {},
   "source": [
    "QUESTION 8"
   ]
  },
  {
   "cell_type": "code",
   "execution_count": 32,
   "id": "213c8069",
   "metadata": {},
   "outputs": [
    {
     "name": "stdout",
     "output_type": "stream",
     "text": [
      "RegularExpression1 IsAn2 ImportantTopic3 InPython\n"
     ]
    }
   ],
   "source": [
    "import re\n",
    "\n",
    "def insert_spaces(text):\n",
    " \n",
    "  pattern = r'(\\d+)([A-Za-z]+)'\n",
    "  result = re.sub(pattern, r'\\1 \\2', text)\n",
    "  return result\n",
    "\n",
    "text = \"RegularExpression1IsAn2ImportantTopic3InPython\"\n",
    "output = insert_spaces(text)\n",
    "print(output)"
   ]
  },
  {
   "cell_type": "markdown",
   "id": "a9f50737",
   "metadata": {},
   "source": [
    "QUESTION 9"
   ]
  },
  {
   "cell_type": "code",
   "execution_count": 33,
   "id": "4f8bd60e",
   "metadata": {},
   "outputs": [
    {
     "name": "stdout",
     "output_type": "stream",
     "text": [
      "Regular Expression1 Is An2 Important Topic3 In Python\n"
     ]
    }
   ],
   "source": [
    "import re\n",
    "\n",
    "def insert_spaces(text):\n",
    "  pattern = r'([A-Z][a-z0-9]+|\\d+)'\n",
    "  result = re.sub(pattern, r' \\1', text)\n",
    "  result = result.strip()\n",
    "  return result\n",
    "  \n",
    "sample_text = \"RegularExpression1IsAn2ImportantTopic3InPython\"\n",
    "output = insert_spaces(sample_text)\n",
    "print(output)\n",
    "\n",
    "\n"
   ]
  },
  {
   "cell_type": "markdown",
   "id": "ef6e458e",
   "metadata": {},
   "source": [
    "QUESTION 10"
   ]
  },
  {
   "cell_type": "code",
   "execution_count": null,
   "id": "b095f618",
   "metadata": {},
   "outputs": [],
   "source": []
  },
  {
   "cell_type": "markdown",
   "id": "c2527f6b",
   "metadata": {},
   "source": [
    "QUESTION 11 \n"
   ]
  },
  {
   "cell_type": "code",
   "execution_count": 2,
   "id": "2b7d3efd",
   "metadata": {},
   "outputs": [
    {
     "name": "stdout",
     "output_type": "stream",
     "text": [
      "String matches the pattern\n",
      "String does not match the pattern\n"
     ]
    }
   ],
   "source": [
    "import re\n",
    "def match_str(string):\n",
    "  pattern = r'^[a-zA-Z0-9_]+$'\n",
    "  if re.match(pattern, string):\n",
    "   print(\"String matches the pattern\")\n",
    "  else:\n",
    "   print(\"String does not match the pattern\")\n",
    "match_str(\"Hello_World123\")  \n",
    "match_str(\"Hello World\")   \n",
    "\n"
   ]
  },
  {
   "cell_type": "markdown",
   "id": "75f076f7",
   "metadata": {},
   "source": [
    "QUESTION 12"
   ]
  },
  {
   "cell_type": "code",
   "execution_count": 3,
   "id": "0cd6d128",
   "metadata": {},
   "outputs": [
    {
     "name": "stdout",
     "output_type": "stream",
     "text": [
      "True\n",
      "False\n"
     ]
    }
   ],
   "source": [
    "\n",
    "import re\n",
    "def match_num(string):\n",
    "    text = re.compile(r\"^5\")\n",
    "    if text.match(string):\n",
    "        return True\n",
    "    else:\n",
    "        return False\n",
    "print(match_num('5-2345861'))\n",
    "print(match_num('6-2345861'))\n"
   ]
  },
  {
   "cell_type": "markdown",
   "id": "ce048b85",
   "metadata": {},
   "source": [
    "QUESTION 13"
   ]
  },
  {
   "cell_type": "code",
   "execution_count": 37,
   "id": "4dc6003a",
   "metadata": {},
   "outputs": [
    {
     "name": "stdout",
     "output_type": "stream",
     "text": [
      "255.24.1.1\n",
      "112.23.4.1\n"
     ]
    }
   ],
   "source": [
    "def remove_zeros(ip_add):\n",
    "  new_ip_add = \".\".join([str(int(i)) for i in ip_add.split(\".\")])  \n",
    "  return new_ip_add ;\n",
    "  \n",
    "print(remove_zeros(\"255.024.01.01\"))\n",
    "print(remove_zeros(\"112.23.4.01 \"))\n"
   ]
  },
  {
   "cell_type": "code",
   "execution_count": null,
   "id": "2605d57a",
   "metadata": {},
   "outputs": [],
   "source": [
    "QUESTION 14"
   ]
  },
  {
   "cell_type": "code",
   "execution_count": 38,
   "id": "398ee7a5",
   "metadata": {},
   "outputs": [
    {
     "name": "stdout",
     "output_type": "stream",
     "text": [
      "['August']\n"
     ]
    }
   ],
   "source": [
    "import re\n",
    "text = \"On August 15th 1947 that India was declared independent from British colonialism, and the reins of control were handed over to the leaders of the Country.\"\n",
    "pattern = r\"\\b([A-Z][a-z]+) \\d{1,2}(?:st|nd|rd|th)? \\d{4}\\b\"\n",
    "matches = re.findall(pattern, text)\n",
    "print(matches)\n"
   ]
  },
  {
   "cell_type": "code",
   "execution_count": null,
   "id": "a1d4d462",
   "metadata": {},
   "outputs": [],
   "source": [
    "QUESTION 15"
   ]
  },
  {
   "cell_type": "code",
   "execution_count": 39,
   "id": "670ddd1e",
   "metadata": {},
   "outputs": [
    {
     "name": "stdout",
     "output_type": "stream",
     "text": [
      "Searching for \"fox\" in \"The quick brown fox jumps over the lazy dog.\" ->\n",
      "Matched!\n",
      "Searching for \"dog\" in \"The quick brown fox jumps over the lazy dog.\" ->\n",
      "Matched!\n",
      "Searching for \"horse\" in \"The quick brown fox jumps over the lazy dog.\" ->\n",
      "Not Matched!\n"
     ]
    }
   ],
   "source": [
    "import re\n",
    "patterns = [ 'fox', 'dog', 'horse' ]\n",
    "text = 'The quick brown fox jumps over the lazy dog.'\n",
    "for pattern in patterns:\n",
    "    print('Searching for \"%s\" in \"%s\" ->' % (pattern, text),)\n",
    "    if re.search(pattern,  text):\n",
    "        print('Matched!')\n",
    "    else:\n",
    "        print('Not Matched!')\n"
   ]
  },
  {
   "cell_type": "code",
   "execution_count": null,
   "id": "2c548add",
   "metadata": {},
   "outputs": [],
   "source": [
    "QUESTION 16"
   ]
  },
  {
   "cell_type": "code",
   "execution_count": 40,
   "id": "a6cb8ec4",
   "metadata": {},
   "outputs": [
    {
     "name": "stdout",
     "output_type": "stream",
     "text": [
      "Found \"fox\" in \"The quick brown fox jumps over the lazy dog.\" from 16 to 19 \n"
     ]
    }
   ],
   "source": [
    "import re\n",
    "pattern = 'fox'\n",
    "text = 'The quick brown fox jumps over the lazy dog.'\n",
    "match = re.search(pattern, text)\n",
    "s = match.start()\n",
    "e = match.end()\n",
    "print('Found \"%s\" in \"%s\" from %d to %d ' % \\\n",
    "    (match.re.pattern, match.string, s, e))\n"
   ]
  },
  {
   "cell_type": "code",
   "execution_count": null,
   "id": "f1cad3fc",
   "metadata": {},
   "outputs": [],
   "source": [
    "QUESTION 17"
   ]
  },
  {
   "cell_type": "code",
   "execution_count": 41,
   "id": "0f66472c",
   "metadata": {},
   "outputs": [
    {
     "name": "stdout",
     "output_type": "stream",
     "text": [
      "Found \"exercises\"\n",
      "Found \"exercises\"\n",
      "Found \"exercises\"\n"
     ]
    }
   ],
   "source": [
    "import re\n",
    "text = 'Python exercises, PHP exercises, C# exercises'\n",
    "pattern = 'exercises'\n",
    "for match in re.findall(pattern, text):\n",
    "    print('Found \"%s\"' % match)\n"
   ]
  },
  {
   "cell_type": "code",
   "execution_count": null,
   "id": "9ae2f337",
   "metadata": {},
   "outputs": [],
   "source": [
    "QUESTION 18"
   ]
  },
  {
   "cell_type": "code",
   "execution_count": 42,
   "id": "321f4bab",
   "metadata": {},
   "outputs": [
    {
     "name": "stdout",
     "output_type": "stream",
     "text": [
      "Found \"exercises\" at 7:16\n",
      "Found \"exercises\" at 22:31\n",
      "Found \"exercises\" at 36:45\n"
     ]
    }
   ],
   "source": [
    "import re\n",
    "text = 'Python exercises, PHP exercises, C# exercises'\n",
    "pattern = 'exercises'\n",
    "for match in re.finditer(pattern, text):\n",
    "    s = match.start()\n",
    "    e = match.end()\n",
    "    print('Found \"%s\" at %d:%d' % (text[s:e], s, e))\n"
   ]
  },
  {
   "cell_type": "code",
   "execution_count": null,
   "id": "193065f9",
   "metadata": {},
   "outputs": [],
   "source": [
    "QUESTION 19"
   ]
  },
  {
   "cell_type": "code",
   "execution_count": 43,
   "id": "70d3ad72",
   "metadata": {},
   "outputs": [
    {
     "name": "stdout",
     "output_type": "stream",
     "text": [
      "Original date in YYY-MM-DD Format:  2026-01-02\n",
      "New date in DD-MM-YYYY Format:  02-01-2026\n"
     ]
    }
   ],
   "source": [
    "import re\n",
    "def change_date_format(dt):\n",
    "        return re.sub(r'(\\d{4})-(\\d{1,2})-(\\d{1,2})', '\\\\3-\\\\2-\\\\1', dt)\n",
    "dt1 = \"2026-01-02\"\n",
    "print(\"Original date in YYY-MM-DD Format: \",dt1)\n",
    "print(\"New date in DD-MM-YYYY Format: \",change_date_format(dt1))\n"
   ]
  },
  {
   "cell_type": "code",
   "execution_count": null,
   "id": "24f0b955",
   "metadata": {},
   "outputs": [],
   "source": [
    "QUESTION 20"
   ]
  },
  {
   "cell_type": "code",
   "execution_count": 45,
   "id": "dad1b06d",
   "metadata": {},
   "outputs": [
    {
     "name": "stdout",
     "output_type": "stream",
     "text": [
      "['01.12', '0132.12', '2.31', '145.8', '3.01', '27.25', '0.25']\n"
     ]
    }
   ],
   "source": [
    "import re\n",
    "\n",
    "def find_decimal_numbers(string):\n",
    "  pattern = re.compile(r'\\d+\\.\\d{1,2}')\n",
    "  decimal_numbers = re.findall(pattern, string)\n",
    "  return decimal_numbers\n",
    "\n",
    "sample_text = \"01.12 0132.123 2.31875 145.8 3.01 27.25 0.25\"\n",
    "output = find_decimal_numbers(sample_text)\n",
    "print(output)"
   ]
  },
  {
   "cell_type": "code",
   "execution_count": null,
   "id": "4bfe8737",
   "metadata": {},
   "outputs": [],
   "source": [
    "QUESTION 21"
   ]
  },
  {
   "cell_type": "code",
   "execution_count": 46,
   "id": "d3e7de9d",
   "metadata": {},
   "outputs": [
    {
     "name": "stdout",
     "output_type": "stream",
     "text": [
      "50\n",
      "Index position: 62\n"
     ]
    }
   ],
   "source": [
    "import re\n",
    "text = \"The following example creates an ArrayList with a capacity of 50 elements. Four elements are then added to the ArrayList and the ArrayList is trimmed accordingly.\"\n",
    "for m in re.finditer(\"\\d+\", text):\n",
    "    print(m.group(0))\n",
    "    print(\"Index position:\", m.start())\n"
   ]
  },
  {
   "cell_type": "code",
   "execution_count": null,
   "id": "f03da3c6",
   "metadata": {},
   "outputs": [],
   "source": [
    "QUESTION 22"
   ]
  },
  {
   "cell_type": "code",
   "execution_count": 47,
   "id": "3bd7a5ad",
   "metadata": {},
   "outputs": [
    {
     "name": "stdout",
     "output_type": "stream",
     "text": [
      "18775994\n"
     ]
    }
   ],
   "source": [
    "import re\n",
    "occ = re.findall(\"\\d+\", \"There are 121005 people in this city, 1587469 in the neighbouring city and 18775994 in a far off city.\")\n",
    "num_list = map(int, occ)\n",
    "print(max(num_list))\n"
   ]
  },
  {
   "cell_type": "code",
   "execution_count": null,
   "id": "6d78acb3",
   "metadata": {},
   "outputs": [],
   "source": [
    "QUESTION 23"
   ]
  },
  {
   "cell_type": "code",
   "execution_count": 48,
   "id": "0ceb8e6c",
   "metadata": {},
   "outputs": [
    {
     "name": "stdout",
     "output_type": "stream",
     "text": [
      "Python\n",
      "Python Exercises\n",
      "Python Exercises Practice Solution\n"
     ]
    }
   ],
   "source": [
    "import re\n",
    "def capital_words_spaces(str1):\n",
    "  return re.sub(r\"(\\w)([A-Z])\", r\"\\1 \\2\", str1)\n",
    "print(capital_words_spaces(\"Python\"))\n",
    "print(capital_words_spaces(\"PythonExercises\"))\n",
    "print(capital_words_spaces(\"PythonExercisesPracticeSolution\"))\n"
   ]
  },
  {
   "cell_type": "code",
   "execution_count": null,
   "id": "a4cbafe8",
   "metadata": {},
   "outputs": [],
   "source": [
    "QUESTION 24"
   ]
  },
  {
   "cell_type": "code",
   "execution_count": 49,
   "id": "a4e52dee",
   "metadata": {},
   "outputs": [
    {
     "name": "stdout",
     "output_type": "stream",
     "text": [
      "Found a match!\n",
      "Found a match!\n",
      "Not matched!\n",
      "Not matched!\n",
      "Not matched!\n",
      "Found a match!\n"
     ]
    }
   ],
   "source": [
    "import re\n",
    "def text_match(text):\n",
    "        patterns = '[A-Z]+[a-z]+$'\n",
    "        if re.search(patterns, text):\n",
    "                return 'Found a match!'\n",
    "        else:\n",
    "                return('Not matched!')\n",
    "print(text_match(\"AaBbGg\"))\n",
    "print(text_match(\"Python\"))\n",
    "print(text_match(\"python\"))\n",
    "print(text_match(\"PYTHON\"))\n",
    "print(text_match(\"aA\"))\n",
    "print(text_match(\"Aa\"))\n"
   ]
  },
  {
   "cell_type": "code",
   "execution_count": null,
   "id": "d3f0c61d",
   "metadata": {},
   "outputs": [],
   "source": [
    "QUESTION 25"
   ]
  },
  {
   "cell_type": "code",
   "execution_count": 51,
   "id": "6aa3e25e",
   "metadata": {},
   "outputs": [
    {
     "name": "stdout",
     "output_type": "stream",
     "text": [
      "Original String:\n",
      "Python Exercises Practice Solution Exercises\n",
      "\n",
      "After removing duplicate words from the said string:\n",
      "Python Exercises Practice Solution\n"
     ]
    }
   ],
   "source": [
    "def unique_list(text_str):\n",
    "    l = text_str.split()\n",
    "    \n",
    "    temp = []\n",
    "    \n",
    "    for x in l:\n",
    "        if x not in temp:\n",
    "            temp.append(x)\n",
    "    return ' '.join(temp)\n",
    "\n",
    "text_str = \"Python Exercises Practice Solution Exercises\"\n",
    "print(\"Original String:\")\n",
    "print(text_str)\n",
    "\n",
    "print(\"\\nAfter removing duplicate words from the said string:\")\n",
    "\n",
    "print(unique_list(text_str))\n",
    "\n"
   ]
  },
  {
   "cell_type": "code",
   "execution_count": null,
   "id": "5db07a6f",
   "metadata": {},
   "outputs": [],
   "source": [
    "QUESTION 26"
   ]
  },
  {
   "cell_type": "code",
   "execution_count": 52,
   "id": "a078fc47",
   "metadata": {},
   "outputs": [
    {
     "ename": "IndentationError",
     "evalue": "expected an indented block after 'if' statement on line 6 (964217273.py, line 7)",
     "output_type": "error",
     "traceback": [
      "\u001b[1;36m  Cell \u001b[1;32mIn[52], line 7\u001b[1;36m\u001b[0m\n\u001b[1;33m    return True\u001b[0m\n\u001b[1;37m    ^\u001b[0m\n\u001b[1;31mIndentationError\u001b[0m\u001b[1;31m:\u001b[0m expected an indented block after 'if' statement on line 6\n"
     ]
    }
   ],
   "source": [
    "import re\n",
    "\n",
    "def check_string(string):\n",
    "  pattern = r\"\\w$\"\n",
    "  match = re.search(pattern, string)\n",
    "  if match:\n",
    "  return True\n",
    "  else:\n",
    "  return False\n",
    "input_string = input(\"Enter a string: \")\n",
    "if check_string(input_string):\n",
    "  print(\"String ends with an alphanumeric character\")\n",
    "else:\n",
    "  print(\"String does not end with an alphanumeric character\")\n"
   ]
  },
  {
   "cell_type": "code",
   "execution_count": null,
   "id": "49b80b09",
   "metadata": {},
   "outputs": [],
   "source": [
    "QUESTION 27"
   ]
  },
  {
   "cell_type": "code",
   "execution_count": 53,
   "id": "7c4c61a3",
   "metadata": {},
   "outputs": [
    {
     "name": "stdout",
     "output_type": "stream",
     "text": [
      "['#Doltiwal', '#xyzabc', '#Demonetization']\n"
     ]
    }
   ],
   "source": [
    "import re\n",
    "\n",
    "def extract_hashtags(text):\n",
    "  hashtags = re.findall(r'#\\w+', text)\n",
    "  return hashtags\n",
    "\n",
    "text = 'RT @kapil_kausik: #Doltiwal I mean #xyzabc is \"hurt\" by #Demonetization as the same has rendered USELESS <ed><U+00A0><U+00BD><ed><U+00B1><U+0089> \"acquired funds\" No wo'\n",
    "\n",
    "hashtags = extract_hashtags(text)\n",
    "\n",
    "print(hashtags)\n"
   ]
  },
  {
   "cell_type": "code",
   "execution_count": null,
   "id": "da736bd4",
   "metadata": {},
   "outputs": [],
   "source": [
    "QUESTION 28"
   ]
  },
  {
   "cell_type": "code",
   "execution_count": 54,
   "id": "238fede1",
   "metadata": {},
   "outputs": [
    {
     "name": "stdout",
     "output_type": "stream",
     "text": [
      "@Jags123456 Bharat band on 28??<ed><ed>Those who are protesting #demonetization are all different party leaders\n"
     ]
    }
   ],
   "source": [
    "import re\n",
    "\n",
    "input_text = \"@Jags123456 Bharat band on 28??<ed><U+00A0><U+00BD><ed><U+00B8><U+0082>Those who are protesting #demonetization are all different party leaders\"\n",
    "\n",
    "pattern = r\"<U\\+\\w{4}>\"\n",
    "output_text = re.sub(pattern, \"\", input_text)\n",
    "\n",
    "print(output_text)\n"
   ]
  },
  {
   "cell_type": "code",
   "execution_count": null,
   "id": "3c6c9369",
   "metadata": {},
   "outputs": [],
   "source": [
    "QUESTION 29"
   ]
  },
  {
   "cell_type": "code",
   "execution_count": 55,
   "id": "ac8daea3",
   "metadata": {},
   "outputs": [
    {
     "ename": "FileNotFoundError",
     "evalue": "[Errno 2] No such file or directory: 'filename.txt'",
     "output_type": "error",
     "traceback": [
      "\u001b[1;31m---------------------------------------------------------------------------\u001b[0m",
      "\u001b[1;31mFileNotFoundError\u001b[0m                         Traceback (most recent call last)",
      "Cell \u001b[1;32mIn[55], line 2\u001b[0m\n\u001b[0;32m      1\u001b[0m \u001b[38;5;28;01mimport\u001b[39;00m \u001b[38;5;21;01mre\u001b[39;00m\n\u001b[1;32m----> 2\u001b[0m \u001b[38;5;28;01mwith\u001b[39;00m \u001b[38;5;28mopen\u001b[39m(\u001b[38;5;124m'\u001b[39m\u001b[38;5;124mfilename.txt\u001b[39m\u001b[38;5;124m'\u001b[39m, \u001b[38;5;124m'\u001b[39m\u001b[38;5;124mr\u001b[39m\u001b[38;5;124m'\u001b[39m) \u001b[38;5;28;01mas\u001b[39;00m file:\n\u001b[0;32m      3\u001b[0m   text \u001b[38;5;241m=\u001b[39m file\u001b[38;5;241m.\u001b[39mread()\n\u001b[0;32m      5\u001b[0m \u001b[38;5;66;03m# date expression\u001b[39;00m\n",
      "File \u001b[1;32m~\\anaconda3\\Lib\\site-packages\\IPython\\core\\interactiveshell.py:286\u001b[0m, in \u001b[0;36m_modified_open\u001b[1;34m(file, *args, **kwargs)\u001b[0m\n\u001b[0;32m    279\u001b[0m \u001b[38;5;28;01mif\u001b[39;00m file \u001b[38;5;129;01min\u001b[39;00m {\u001b[38;5;241m0\u001b[39m, \u001b[38;5;241m1\u001b[39m, \u001b[38;5;241m2\u001b[39m}:\n\u001b[0;32m    280\u001b[0m     \u001b[38;5;28;01mraise\u001b[39;00m \u001b[38;5;167;01mValueError\u001b[39;00m(\n\u001b[0;32m    281\u001b[0m         \u001b[38;5;124mf\u001b[39m\u001b[38;5;124m\"\u001b[39m\u001b[38;5;124mIPython won\u001b[39m\u001b[38;5;124m'\u001b[39m\u001b[38;5;124mt let you open fd=\u001b[39m\u001b[38;5;132;01m{\u001b[39;00mfile\u001b[38;5;132;01m}\u001b[39;00m\u001b[38;5;124m by default \u001b[39m\u001b[38;5;124m\"\u001b[39m\n\u001b[0;32m    282\u001b[0m         \u001b[38;5;124m\"\u001b[39m\u001b[38;5;124mas it is likely to crash IPython. If you know what you are doing, \u001b[39m\u001b[38;5;124m\"\u001b[39m\n\u001b[0;32m    283\u001b[0m         \u001b[38;5;124m\"\u001b[39m\u001b[38;5;124myou can use builtins\u001b[39m\u001b[38;5;124m'\u001b[39m\u001b[38;5;124m open.\u001b[39m\u001b[38;5;124m\"\u001b[39m\n\u001b[0;32m    284\u001b[0m     )\n\u001b[1;32m--> 286\u001b[0m \u001b[38;5;28;01mreturn\u001b[39;00m io_open(file, \u001b[38;5;241m*\u001b[39margs, \u001b[38;5;241m*\u001b[39m\u001b[38;5;241m*\u001b[39mkwargs)\n",
      "\u001b[1;31mFileNotFoundError\u001b[0m: [Errno 2] No such file or directory: 'filename.txt'"
     ]
    }
   ],
   "source": [
    "import re\n",
    "with open('filename.txt', 'r') as file:\n",
    "  text = file.read()\n",
    "\n",
    "# date expression\n",
    "pattern = r'\\d{2}-\\d{2}-\\d{4}'\n",
    "\n",
    "# finding pattern\n",
    "dates = re.findall(pattern, text)\n",
    "\n",
    "# printing the dates\n",
    "for date in dates:\n",
    "  print(date)\n"
   ]
  },
  {
   "cell_type": "code",
   "execution_count": null,
   "id": "7476a025",
   "metadata": {},
   "outputs": [],
   "source": [
    "QUESTION 30"
   ]
  },
  {
   "cell_type": "code",
   "execution_count": 56,
   "id": "32b8208f",
   "metadata": {},
   "outputs": [
    {
     "name": "stdout",
     "output_type": "stream",
     "text": [
      "False\n"
     ]
    }
   ],
   "source": [
    "import re\n",
    "\n",
    "def remove_words(string):\n",
    "  pattern = re.compile(r'\\b\\w{2,4}\\b')\n",
    "  modified_string = re.sub(pattern, '', string)\n",
    "  return modified_string\n",
    "\n",
    "sample_text = \"The following example creates an ArrayList with a capacity of 50 elements. 4 elements are then added to the ArrayList and the ArrayList is trimmed accordingly.\"\n",
    "expected_output = \"following example creates ArrayList a capacity elements. 4 elements added ArrayList ArrayList trimmed accordingly.\"\n",
    "\n",
    "result = remove_words(sample_text)\n",
    "print(result == expected_output) \n"
   ]
  },
  {
   "cell_type": "code",
   "execution_count": null,
   "id": "257c1dd7",
   "metadata": {},
   "outputs": [],
   "source": []
  }
 ],
 "metadata": {
  "kernelspec": {
   "display_name": "Python 3 (ipykernel)",
   "language": "python",
   "name": "python3"
  },
  "language_info": {
   "codemirror_mode": {
    "name": "ipython",
    "version": 3
   },
   "file_extension": ".py",
   "mimetype": "text/x-python",
   "name": "python",
   "nbconvert_exporter": "python",
   "pygments_lexer": "ipython3",
   "version": "3.11.5"
  }
 },
 "nbformat": 4,
 "nbformat_minor": 5
}
